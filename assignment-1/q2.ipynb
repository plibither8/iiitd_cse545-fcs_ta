{
 "cells": [
  {
   "cell_type": "code",
   "execution_count": 1,
   "metadata": {},
   "outputs": [],
   "source": [
    "import jwt\n",
    "\n",
    "# Other common imports the students might have used\n",
    "import base64\n",
    "from base64 import urlsafe_b64encode, b64decode, urlsafe_b64decode\n",
    "import json\n",
    "import hmac\n",
    "import hashlib\n",
    "from cffi.backend_ctypes import unicode\n",
    "import base64 as b64\n",
    "import hashlib as hsl\n",
    "import ast\n",
    "import re\n",
    "from urllib.parse import unquote\n",
    "from hashlib import sha256 as sh\n",
    "from hashlib import sha384 as sht\n",
    "from typing import Union\n",
    "from hashlib import sha256, md5\n",
    "\n"
   ]
  },
  {
   "cell_type": "markdown",
   "metadata": {},
   "source": [
    "## Q2 part A\n"
   ]
  },
  {
   "cell_type": "code",
   "execution_count": 2,
   "metadata": {},
   "outputs": [],
   "source": [
    "# Paste student's Q2 part A `verifyJwt` function code here:\n",
    "def verifyJwt(token, secret):\n",
    "\tpass"
   ]
  },
  {
   "cell_type": "code",
   "execution_count": 3,
   "metadata": {},
   "outputs": [
    {
     "name": "stdout",
     "output_type": "stream",
     "text": [
      "Inavalid\n",
      "Inavalid\n",
      "Marks: 10.0 / 10\n"
     ]
    }
   ],
   "source": [
    "A = \"HS256\"\n",
    "B = \"HS384\"\n",
    "C = \"HS512\"\n",
    "\n",
    "# Add in this list any two of A, B, C depending on which algorithms the student implemented\n",
    "symmetric_algorithms_to_check_for = [A, C]\n",
    "\n",
    "marks = 0\n",
    "\n",
    "for algorithm in symmetric_algorithms_to_check_for:\n",
    "    token = jwt.encode({\"name\": \"John Doe\"}, \"secret\", algorithm=algorithm)\n",
    "\n",
    "    # Verify the token is valid\n",
    "    try:\n",
    "        assert verifyJwt(token, \"secret\") == {\"name\": \"John Doe\"}\n",
    "        marks += 2.5\n",
    "    except Exception as e:\n",
    "        print(e)\n",
    "        print(algorithm, \"failed valid token test\")\n",
    "\n",
    "    # Verify the token is invalid\n",
    "    try:\n",
    "        verifyJwt(token, \"wrong secret\")\n",
    "        print(algorithm, \"failed invalid token test\")\n",
    "    except Exception as e:\n",
    "        print(e)\n",
    "        marks += 2.5\n",
    "\n",
    "print(f\"Marks: {marks} / 10\")"
   ]
  },
  {
   "cell_type": "markdown",
   "metadata": {},
   "source": [
    "## Q2 part B\n"
   ]
  },
  {
   "cell_type": "code",
   "execution_count": 57,
   "metadata": {},
   "outputs": [],
   "source": [
    "# Paste student's token here:\n",
    "token = \"\"\"eyJhbGciOiJIUzI1NiIsInR5cCI6IkpXVCJ9.eyJzdWIiOiAiZmNzLWFzc2lnbm1lbnQtMSIsICJpYXQ\n",
    "iOiAxNTE2MjM5MDIyLCAiZXhwIjogMTY3MjUxMTQwMCwgInJvbGUiOiAiYWRtaW4iLCAiZW1h\n",
    "aWwiOiAiYXJ1bkBpaWl0ZC5hYy5pbiIsICJoaW50IjogImxvd2VyY2FzZS1hbHBoYW51bWVyaW\n",
    "MtbGVuZ3RoLTUifQ.LTc8VayAQR_LcBRoyG5kEJvVUOzMB3voQ17havY69ZE\"\"\"\n",
    "\n",
    "# Remove newlines from the token\n",
    "token = token.replace(\"\\r\", \"\").replace(\"\\n\", \"\")"
   ]
  },
  {
   "cell_type": "code",
   "execution_count": 58,
   "metadata": {},
   "outputs": [
    {
     "name": "stdout",
     "output_type": "stream",
     "text": [
      "Correct\n"
     ]
    }
   ],
   "source": [
    "expected = {\n",
    "    \"role\": \"admin\",\n",
    "    \"sub\": \"fcs-assignment-1\",\n",
    "    \"email\": \"arun@iiitd.ac.in\",\n",
    "    \"hint\": \"lowercase-alphanumeric-length-5\",\n",
    "}\n",
    "try:\n",
    "    decoded = jwt.decode(token, \"p1gzy\", [\"HS256\"])\n",
    "    for key in expected:\n",
    "        assert decoded[key] == expected[key]\n",
    "    print(\"Correct\")\n",
    "except Exception as e:\n",
    "    print(\"Incorrect\")\n",
    "    print(e)\n"
   ]
  }
 ],
 "metadata": {
  "kernelspec": {
   "display_name": "Python 3.10.4 64-bit ('3.10.4')",
   "language": "python",
   "name": "python3"
  },
  "language_info": {
   "codemirror_mode": {
    "name": "ipython",
    "version": 3
   },
   "file_extension": ".py",
   "mimetype": "text/x-python",
   "name": "python",
   "nbconvert_exporter": "python",
   "pygments_lexer": "ipython3",
   "version": "3.10.4"
  },
  "orig_nbformat": 4,
  "vscode": {
   "interpreter": {
    "hash": "dbcf574e5fc6eaaaf91f39389665a8541654e1c775a1a92b98de93ca9b7ecf3b"
   }
  }
 },
 "nbformat": 4,
 "nbformat_minor": 2
}
